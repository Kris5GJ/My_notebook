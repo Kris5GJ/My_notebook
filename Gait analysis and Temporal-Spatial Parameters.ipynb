{
 "metadata": {
  "name": "",
  "signature": "sha256:7a20aaa8e6d2502d0157b0315389ee28d7c20fda26b986d112390c72fdbf4ab3"
 },
 "nbformat": 3,
 "nbformat_minor": 0,
 "worksheets": [
  {
   "cells": [
    {
     "cell_type": "markdown",
     "metadata": {},
     "source": [
      "Kristy Godoy Jaimes, \n",
      "Ing. Biom\u00e9dica\n"
     ]
    },
    {
     "cell_type": "markdown",
     "metadata": {},
     "source": [
      "<b>Gait is any form of locomotion where the limbs experiment loading and unloading of the bodyweight. Babies crawl, and as we grow up we learn other methods of locomotion, walking, running and hopping, among others. Walking is the most frequently used (Christopher Kirtley, 2006)."
     ]
    },
    {
     "cell_type": "heading",
     "level": 1,
     "metadata": {},
     "source": [
      "GAIT ANALISYS"
     ]
    },
    {
     "cell_type": "heading",
     "level": 2,
     "metadata": {},
     "source": [
      "What is? and  Why?"
     ]
    },
    {
     "cell_type": "markdown",
     "metadata": {},
     "source": [
      "<em>\"Gait analysis is the systematic study of human walking, using the eye and brain of experienced observers, augmented by instrumentation for measuring body movements, body mechanics and the activity of the muscles. In individuals with conditions affecting their ability to walk, gait analysis may be used to make detailed diagnoses and to plan optimal treatment.\"\n",
      "\n",
      "Michael W. Whittle, 2007"
     ]
    },
    {
     "cell_type": "markdown",
     "metadata": {},
     "source": [
      "<em>\"Gait has been a recurring preocupation throughout history, often reflecting the technology and preoccupations of the age...Part of the problem with understanding walking is that because we do so much of it so effortlessly and subconsciously, it is difficult to appreciate the immense complexities involved\" \n",
      "\n",
      "Christopher Kirtley, 2006"
     ]
    },
    {
     "cell_type": "markdown",
     "metadata": {},
     "source": [
      "<img src=\"abs1.png\">"
     ]
    },
    {
     "cell_type": "heading",
     "level": 2,
     "metadata": {},
     "source": [
      "Laboratories"
     ]
    },
    {
     "cell_type": "markdown",
     "metadata": {},
     "source": [
      "[Motion & Gait Analysis Laboratory, Lucile Packard Children's Hospital Stanford](http://www.stanfordchildrens.org/en/service/motion-gait-analysis-laboratory/gait)"
     ]
    },
    {
     "cell_type": "code",
     "collapsed": false,
     "input": [
      "from IPython.display import IFrame\n",
      "IFrame('http://www.stanfordchildrens.org/en/service/motion-gait-analysis-laboratory/gait', width='100%', height=600)"
     ],
     "language": "python",
     "metadata": {},
     "outputs": [
      {
       "html": [
        "\n",
        "        <iframe\n",
        "            width=\"100%\"\n",
        "            height=600\"\n",
        "            src=\"http://www.stanfordchildrens.org/en/service/motion-gait-analysis-laboratory/gait\"\n",
        "            frameborder=\"0\"\n",
        "            allowfullscreen\n",
        "        ></iframe>\n",
        "        "
       ],
       "metadata": {},
       "output_type": "pyout",
       "prompt_number": 2,
       "text": [
        "<IPython.lib.display.IFrame at 0x59fe400>"
       ]
      }
     ],
     "prompt_number": 2
    },
    {
     "cell_type": "markdown",
     "metadata": {},
     "source": [
      "[Center for Gait and Motion Analysis, Gillette Children's Specialty Healthcare](http://www.gillettechildrens.org/conditions-and-care/gait-and-motion-analysis/)"
     ]
    },
    {
     "cell_type": "code",
     "collapsed": false,
     "input": [
      "from IPython.display import IFrame\n",
      "IFrame('http://www.gillettechildrens.org/conditions-and-care/gait-and-motion-analysis/', width='100%', height=600)"
     ],
     "language": "python",
     "metadata": {},
     "outputs": [
      {
       "html": [
        "\n",
        "        <iframe\n",
        "            width=\"100%\"\n",
        "            height=600\"\n",
        "            src=\"http://www.gillettechildrens.org/conditions-and-care/gait-and-motion-analysis/\"\n",
        "            frameborder=\"0\"\n",
        "            allowfullscreen\n",
        "        ></iframe>\n",
        "        "
       ],
       "metadata": {},
       "output_type": "pyout",
       "prompt_number": 3,
       "text": [
        "<IPython.lib.display.IFrame at 0x59fe4e0>"
       ]
      }
     ],
     "prompt_number": 3
    },
    {
     "cell_type": "markdown",
     "metadata": {},
     "source": [
      "\n",
      "[Motion Lab Systems links](http://www.motion-labs.com/index_links.html#laboratories)\n",
      "\n",
      "A site with a list of motion labs around the world"
     ]
    },
    {
     "cell_type": "code",
     "collapsed": false,
     "input": [
      "from IPython.display import IFrame\n",
      "IFrame('http://www.motion-labs.com/index_links.html', width='100%', height=600)"
     ],
     "language": "python",
     "metadata": {},
     "outputs": [
      {
       "html": [
        "\n",
        "        <iframe\n",
        "            width=\"100%\"\n",
        "            height=600\"\n",
        "            src=\"http://www.motion-labs.com/index_links.html\"\n",
        "            frameborder=\"0\"\n",
        "            allowfullscreen\n",
        "        ></iframe>\n",
        "        "
       ],
       "metadata": {},
       "output_type": "pyout",
       "prompt_number": 4,
       "text": [
        "<IPython.lib.display.IFrame at 0x59fe518>"
       ]
      }
     ],
     "prompt_number": 4
    },
    {
     "cell_type": "heading",
     "level": 2,
     "metadata": {},
     "source": [
      "Temporal-Spatial Gait Parameters"
     ]
    },
    {
     "cell_type": "markdown",
     "metadata": {},
     "source": [
      "[Spatial and temporal characteristics of a movement pattern](http://nbviewer.ipython.org/github/demotu/BMC/blob/master/notebooks/SpatialTemporalCharacteristcs.ipynb)\n",
      "\n",
      "From GitHub, BMC"
     ]
    },
    {
     "cell_type": "code",
     "collapsed": false,
     "input": [
      "from IPython.display import IFrame\n",
      "IFrame('http://nbviewer.ipython.org/github/demotu/BMC/blob/master/notebooks/SpatialTemporalCharacteristcs.ipynb', width='100%', height=600)"
     ],
     "language": "python",
     "metadata": {},
     "outputs": [
      {
       "html": [
        "\n",
        "        <iframe\n",
        "            width=\"100%\"\n",
        "            height=600\"\n",
        "            src=\"http://nbviewer.ipython.org/github/demotu/BMC/blob/master/notebooks/SpatialTemporalCharacteristcs.ipynb\"\n",
        "            frameborder=\"0\"\n",
        "            allowfullscreen\n",
        "        ></iframe>\n",
        "        "
       ],
       "metadata": {},
       "output_type": "pyout",
       "prompt_number": 5,
       "text": [
        "<IPython.lib.display.IFrame at 0x59fe6a0>"
       ]
      }
     ],
     "prompt_number": 5
    },
    {
     "cell_type": "markdown",
     "metadata": {},
     "source": [
      "<img src=\"gait cycle.png\">\n",
      "Michael W. Whittle, 2007"
     ]
    },
    {
     "cell_type": "heading",
     "level": 2,
     "metadata": {},
     "source": [
      "Activity"
     ]
    },
    {
     "cell_type": "markdown",
     "metadata": {},
     "source": [
      "Groups of four\n",
      "\n",
      "####We need:\n",
      "\n",
      "- Stopwatch\n",
      "- Measure tape\n",
      "- Tape\n",
      "- Calculator\n",
      "- Computer\n",
      "- Paper and pencil (optional)\n",
      "- Cell phone with Ubersense app (if possible) \n",
      "\n",
      "####Procedure:\n",
      "\n",
      "Each member will have to walk a delimited distance of 15 meters three times, each time with a different velocity, slow, normal and fast. Fast does not include running.\n",
      "\n",
      "While one person is walking, other person will manage the time, the other will count the steps walked within the distance, and the other person will record the walking person.\n",
      "\n",
      "The person in charge of counting the steps has to be aware that only the steps given within the distance delimited are valid.\n",
      "\n",
      "####Data to be collected:\n",
      "\n",
      "- Time within the distance delimited\n",
      "- Steps\n",
      "- Lower limb length (measured from the ASIS, anterior posterior iliac spine, to the floor).\n",
      "\n",
      "#### Data to be calculated:\n",
      "\n",
      "- Speed  \n",
      "- Step length\n",
      "- Cadence\n",
      "\n",
      "#### Data analysis\n",
      "\n",
      "For each person plot:\n",
      "\n",
      "- Speed vs Step length\n",
      "- Speed vs Cadence\n",
      "\n",
      "\n",
      "####Questions\n",
      "\n",
      "1. Is there any relationship between the cadence and the step length with the speed increase?\n",
      "2. What problems did you have during the data acquisition? What do you propose to solve them?\n",
      "\n",
      "####If the trials were recorded with Ubersense app\n",
      "\n",
      "Register the following:\n",
      "\n",
      "- Stride time \n",
      "- Stance time\n",
      "- Swing time\n",
      "- Single support time\n",
      "- Double support time\n",
      "\n",
      "Calculate:\n",
      "\n",
      "- Stance phase proportion (%)\n",
      "- Swing phase proportion (%)\n",
      "\n",
      "Plot:\n",
      "\n",
      "- Speed vs Double support time\n",
      "- Speed vs Stance time\n",
      "\n",
      "####Questions\n",
      "\n",
      "1. What relationship exists between the double support and stance duration with the speed? \n",
      "2. What problems did you have during the data acquisition? What do you propose to solve them?\n",
      "4. What relationship exists between the swing phase proportion and the speed?\n",
      "3. Could you take this data without using video? How?"
     ]
    },
    {
     "cell_type": "heading",
     "level": 1,
     "metadata": {},
     "source": [
      "REFERENCES"
     ]
    },
    {
     "cell_type": "markdown",
     "metadata": {},
     "source": [
      "Michael W. Whittle, 2007. An Introduction to Gait Analysis. Butterworth-Heinemann Ltd; 4th edition.\n",
      "\n",
      "Christopher Kirtley, 2006. Clinical Gait Analysis: Theory and Practice. Elsevier Churchill Livingstone; 1st edition.\n"
     ]
    }
   ],
   "metadata": {}
  }
 ]
}